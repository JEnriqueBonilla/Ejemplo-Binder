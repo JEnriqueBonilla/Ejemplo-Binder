{
 "cells": [
  {
   "cell_type": "code",
   "execution_count": 1,
   "metadata": {},
   "outputs": [],
   "source": [
    "import numpy as np\n",
    "import pandas as pd\n",
    "\n",
    "import plotly.graph_objects as go\n",
    "from plotly.subplots import make_subplots\n",
    "\n",
    "import dash\n",
    "import dash_core_components as dcc\n",
    "import dash_html_components as html\n",
    "from dash.dependencies import Input, Output\n",
    "from jupyter_plotly_dash import JupyterDash\n",
    "\n",
    "from src.TransformData import dividir_datos, crear_df_error\n",
    "from src.models import crear_linea_regresion_lineal, crear_linea_k_vecinos, crear_linea_regresion_logistica\n",
    "from src.CreateFigures import crear_figuras_entrenamiento_prueba_validacion, crear_figuras_regresion_logistica, graficar_error"
   ]
  },
  {
   "cell_type": "markdown",
   "metadata": {},
   "source": [
    "## Ejemplo de Regresión (Regresión Lineal)"
   ]
  },
  {
   "cell_type": "markdown",
   "metadata": {},
   "source": [
    "### Cargar Datos"
   ]
  },
  {
   "cell_type": "code",
   "execution_count": 2,
   "metadata": {},
   "outputs": [],
   "source": [
    "data_peso_altura = pd.read_csv('./data/weight-height.csv', nrows=400)"
   ]
  },
  {
   "cell_type": "markdown",
   "metadata": {},
   "source": [
    "### Cargar aplicación"
   ]
  },
  {
   "cell_type": "markdown",
   "metadata": {},
   "source": [
    "#### Comparación de ajuste entrenamiento, prueba, validación"
   ]
  },
  {
   "cell_type": "code",
   "execution_count": 3,
   "metadata": {},
   "outputs": [],
   "source": [
    "app = JupyterDash(__name__)\n",
    "\n",
    "# crear input\n",
    "peso = data_peso_altura.Weight\n",
    "altura = data_peso_altura.Height\n",
    "datos_altura_peso = dividir_datos(peso, altura)\n",
    "\n",
    "# app\n",
    "app.layout = html.Div([html.Div([html.H1(\"Demo Regresión Lineal\"),\n",
    "                                 dcc.Dropdown(id='model-option',\n",
    "                                              options=[{'label': 'Regresión Lineal', 'value': 'linear_regression'},\n",
    "                                                       {'label': '240 Vecinos más cercanos', 'value': 240},\n",
    "                                                       {'label': '120 Vecinos más cercanos', 'value': 120},\n",
    "                                                       {'label': '60 Vecinos más cercanos', 'value': 60},\n",
    "                                                       {'label': '10 Vecinos más cercanos', 'value': 10},\n",
    "                                                       {'label': '2 Vecinos más cercanos', 'value': 2},\n",
    "                                                       {'label': '1 Vecino más cercano', 'value': 1}],\n",
    "                                              value='linear_regression')]),\n",
    "                       html.Div([dcc.Graph(id='train',figure={}),\n",
    "                                 dcc.Graph(id='test',figure={}),\n",
    "                                 dcc.Graph(id='validation',figure={})],\n",
    "                                style= {'width': '50%', \n",
    "                                        'display': 'flex'})])\n",
    "\n",
    "@app.callback(\n",
    "    [Output(component_id='train', component_property='figure'),\n",
    "     Output(component_id='test', component_property='figure'),\n",
    "     Output(component_id='validation', component_property='figure')],\n",
    "    [Input(component_id='model-option', component_property='value')]\n",
    ")\n",
    "def regresion_graphs(model_option):\n",
    "    \n",
    "    if model_option =='linear_regression':\n",
    "        x_modelo, y_modelo = crear_linea_regresion_lineal(datos_altura_peso['x_entrenamiento'], \n",
    "                                                          datos_altura_peso['y_entrenamiento'])\n",
    "        \n",
    "        nombre_modelo = 'Regresión Lineal'\n",
    "    else:\n",
    "        x_modelo, y_modelo = crear_linea_k_vecinos(datos_altura_peso['x_entrenamiento'], \n",
    "                                                   datos_altura_peso['y_entrenamiento'],\n",
    "                                                   model_option)\n",
    "        \n",
    "        nombre_modelo = f'{str(model_option)}-Vecinos más cercanos'\n",
    "        \n",
    "    figuras = crear_figuras_entrenamiento_prueba_validacion(datos_altura_peso, \n",
    "                                                            x_modelo, \n",
    "                                                            y_modelo,\n",
    "                                                            nombre_modelo)    \n",
    "\n",
    "    return figuras['figura_entrenamiento'], figuras['figura_prueba'], figuras['figura_validacion']"
   ]
  },
  {
   "cell_type": "code",
   "execution_count": 4,
   "metadata": {},
   "outputs": [
    {
     "data": {
      "text/html": [
       "<div>\n",
       "  <iframe src=\"/app/endpoints/0a59c63fca694ac29b2c43865d5a95b0/\" width=800 height=600 frameborder=\"0\"></iframe>\n",
       "  <hr/><a href=\"/app/endpoints/0a59c63fca694ac29b2c43865d5a95b0/\" target=\"_new\">Open in new window</a> for /app/endpoints/0a59c63fca694ac29b2c43865d5a95b0/\n",
       "</div>"
      ],
      "text/plain": [
       "<jupyter_plotly_dash.dash_wrapper.JupyterDash at 0x7f2a2b803c10>"
      ]
     },
     "execution_count": 4,
     "metadata": {},
     "output_type": "execute_result"
    }
   ],
   "source": [
    "app"
   ]
  },
  {
   "cell_type": "markdown",
   "metadata": {},
   "source": [
    "#### Comparación de error entrenamiento, prueba, validación"
   ]
  },
  {
   "cell_type": "code",
   "execution_count": 5,
   "metadata": {},
   "outputs": [],
   "source": [
    "app = JupyterDash(__name__)\n",
    "\n",
    "df_errores = crear_df_error(datos_altura_peso)\n",
    "\n",
    "# app\n",
    "app.layout = html.Div([html.Div([html.H1(\"Demo Error de modelos de regresión\"),\n",
    "                                 dcc.Dropdown(id='model-options',\n",
    "                                              options=[{'label': 'Entrenamiento', 'value': 'entrenamiento'},\n",
    "                                                       {'label': 'Prueba', 'value': 'prueba'},\n",
    "                                                       {'label': 'Validación', 'value': 'validacion'}],\n",
    "                                              value=['entrenamiento'],\n",
    "                                              multi=True)]),\n",
    "                       html.Div([dcc.Graph(id='error',figure={})],\n",
    "                                style= {'width': '50%', \n",
    "                                        'display': 'flex'})])\n",
    "\n",
    "@app.callback(\n",
    "    Output(component_id='error', component_property='figure'),\n",
    "    [Input(component_id='model-options', component_property='value')]\n",
    ")\n",
    "def error_graphs(model_options):\n",
    "    if not model_options:\n",
    "        return {}\n",
    "    figura_error = go.Figure()\n",
    "    for tipo_de_error in model_options:\n",
    "        figura_error = graficar_error(figura_error, tipo_de_error, df_errores) \n",
    "\n",
    "    return figura_error"
   ]
  },
  {
   "cell_type": "code",
   "execution_count": 6,
   "metadata": {},
   "outputs": [
    {
     "data": {
      "text/html": [
       "<div>\n",
       "  <iframe src=\"/app/endpoints/8317896d616a4e00b386bc1fb66f0c7d/\" width=800 height=600 frameborder=\"0\"></iframe>\n",
       "  <hr/><a href=\"/app/endpoints/8317896d616a4e00b386bc1fb66f0c7d/\" target=\"_new\">Open in new window</a> for /app/endpoints/8317896d616a4e00b386bc1fb66f0c7d/\n",
       "</div>"
      ],
      "text/plain": [
       "<jupyter_plotly_dash.dash_wrapper.JupyterDash at 0x7f2a284d7090>"
      ]
     },
     "execution_count": 6,
     "metadata": {},
     "output_type": "execute_result"
    }
   ],
   "source": [
    "app"
   ]
  },
  {
   "cell_type": "markdown",
   "metadata": {},
   "source": [
    "## Ejemplo de Clasificación (Regresión Logística)"
   ]
  },
  {
   "cell_type": "markdown",
   "metadata": {},
   "source": [
    "### Cargar Datos"
   ]
  },
  {
   "cell_type": "code",
   "execution_count": 7,
   "metadata": {},
   "outputs": [],
   "source": [
    "data_titanic = pd.read_csv('./data/titanic_train.csv')"
   ]
  },
  {
   "cell_type": "code",
   "execution_count": 8,
   "metadata": {},
   "outputs": [
    {
     "data": {
      "text/html": [
       "<div>\n",
       "<style scoped>\n",
       "    .dataframe tbody tr th:only-of-type {\n",
       "        vertical-align: middle;\n",
       "    }\n",
       "\n",
       "    .dataframe tbody tr th {\n",
       "        vertical-align: top;\n",
       "    }\n",
       "\n",
       "    .dataframe thead th {\n",
       "        text-align: right;\n",
       "    }\n",
       "</style>\n",
       "<table border=\"1\" class=\"dataframe\">\n",
       "  <thead>\n",
       "    <tr style=\"text-align: right;\">\n",
       "      <th></th>\n",
       "      <th>PassengerId</th>\n",
       "      <th>Survived</th>\n",
       "      <th>Pclass</th>\n",
       "      <th>Name</th>\n",
       "      <th>Sex</th>\n",
       "      <th>Age</th>\n",
       "      <th>SibSp</th>\n",
       "      <th>Parch</th>\n",
       "      <th>Ticket</th>\n",
       "      <th>Fare</th>\n",
       "      <th>Cabin</th>\n",
       "      <th>Embarked</th>\n",
       "    </tr>\n",
       "  </thead>\n",
       "  <tbody>\n",
       "    <tr>\n",
       "      <th>0</th>\n",
       "      <td>1</td>\n",
       "      <td>0</td>\n",
       "      <td>3</td>\n",
       "      <td>Braund, Mr. Owen Harris</td>\n",
       "      <td>male</td>\n",
       "      <td>22.0</td>\n",
       "      <td>1</td>\n",
       "      <td>0</td>\n",
       "      <td>A/5 21171</td>\n",
       "      <td>7.2500</td>\n",
       "      <td>NaN</td>\n",
       "      <td>S</td>\n",
       "    </tr>\n",
       "    <tr>\n",
       "      <th>1</th>\n",
       "      <td>2</td>\n",
       "      <td>1</td>\n",
       "      <td>1</td>\n",
       "      <td>Cumings, Mrs. John Bradley (Florence Briggs Th...</td>\n",
       "      <td>female</td>\n",
       "      <td>38.0</td>\n",
       "      <td>1</td>\n",
       "      <td>0</td>\n",
       "      <td>PC 17599</td>\n",
       "      <td>71.2833</td>\n",
       "      <td>C85</td>\n",
       "      <td>C</td>\n",
       "    </tr>\n",
       "    <tr>\n",
       "      <th>2</th>\n",
       "      <td>3</td>\n",
       "      <td>1</td>\n",
       "      <td>3</td>\n",
       "      <td>Heikkinen, Miss. Laina</td>\n",
       "      <td>female</td>\n",
       "      <td>26.0</td>\n",
       "      <td>0</td>\n",
       "      <td>0</td>\n",
       "      <td>STON/O2. 3101282</td>\n",
       "      <td>7.9250</td>\n",
       "      <td>NaN</td>\n",
       "      <td>S</td>\n",
       "    </tr>\n",
       "    <tr>\n",
       "      <th>3</th>\n",
       "      <td>4</td>\n",
       "      <td>1</td>\n",
       "      <td>1</td>\n",
       "      <td>Futrelle, Mrs. Jacques Heath (Lily May Peel)</td>\n",
       "      <td>female</td>\n",
       "      <td>35.0</td>\n",
       "      <td>1</td>\n",
       "      <td>0</td>\n",
       "      <td>113803</td>\n",
       "      <td>53.1000</td>\n",
       "      <td>C123</td>\n",
       "      <td>S</td>\n",
       "    </tr>\n",
       "    <tr>\n",
       "      <th>4</th>\n",
       "      <td>5</td>\n",
       "      <td>0</td>\n",
       "      <td>3</td>\n",
       "      <td>Allen, Mr. William Henry</td>\n",
       "      <td>male</td>\n",
       "      <td>35.0</td>\n",
       "      <td>0</td>\n",
       "      <td>0</td>\n",
       "      <td>373450</td>\n",
       "      <td>8.0500</td>\n",
       "      <td>NaN</td>\n",
       "      <td>S</td>\n",
       "    </tr>\n",
       "  </tbody>\n",
       "</table>\n",
       "</div>"
      ],
      "text/plain": [
       "   PassengerId  Survived  Pclass  \\\n",
       "0            1         0       3   \n",
       "1            2         1       1   \n",
       "2            3         1       3   \n",
       "3            4         1       1   \n",
       "4            5         0       3   \n",
       "\n",
       "                                                Name     Sex   Age  SibSp  \\\n",
       "0                            Braund, Mr. Owen Harris    male  22.0      1   \n",
       "1  Cumings, Mrs. John Bradley (Florence Briggs Th...  female  38.0      1   \n",
       "2                             Heikkinen, Miss. Laina  female  26.0      0   \n",
       "3       Futrelle, Mrs. Jacques Heath (Lily May Peel)  female  35.0      1   \n",
       "4                           Allen, Mr. William Henry    male  35.0      0   \n",
       "\n",
       "   Parch            Ticket     Fare Cabin Embarked  \n",
       "0      0         A/5 21171   7.2500   NaN        S  \n",
       "1      0          PC 17599  71.2833   C85        C  \n",
       "2      0  STON/O2. 3101282   7.9250   NaN        S  \n",
       "3      0            113803  53.1000  C123        S  \n",
       "4      0            373450   8.0500   NaN        S  "
      ]
     },
     "execution_count": 8,
     "metadata": {},
     "output_type": "execute_result"
    }
   ],
   "source": [
    "data_titanic.head()"
   ]
  },
  {
   "cell_type": "markdown",
   "metadata": {},
   "source": [
    "### Cargar aplicación"
   ]
  },
  {
   "cell_type": "markdown",
   "metadata": {},
   "source": [
    "#### Visualizar conjunto de prueba"
   ]
  },
  {
   "cell_type": "code",
   "execution_count": 9,
   "metadata": {},
   "outputs": [],
   "source": [
    "app = JupyterDash(__name__)\n",
    "\n",
    "data_titanic['Sex'] = (data_titanic['Sex'] == 'male').astype(int)\n",
    "\n",
    "# app\n",
    "app.layout = html.Div([html.Div([html.H1(\"Demo Regresión Logística\"),\n",
    "                                 html.Div(children='Nota 1: Sólo se toman en cuenta las primeras dos variables seleccionadas'),\n",
    "                                 html.Div(children='Nota 2: La primera variable tiene que ser continua (Edad o Tarífa)'),\n",
    "                                 dcc.Dropdown(id='variable-options',\n",
    "                                              options=[{'label': 'Variable 1: Tarifa', 'value': 'Fare'},\n",
    "                                                       {'label': 'Variable 1: Edad', 'value': 'Age'},\n",
    "                                                       {'label': 'Variable 1: Sexo', 'value': 'Sex'},\n",
    "                                                       {'label': 'Variable 1: Clase del Pasajero', 'value': 'Pclass'}],\n",
    "                                              value=['Fare', 'Age'],\n",
    "                                              multi=True)]),\n",
    "                       html.Div([dcc.Graph(id='test-one-variable', figure={}),\n",
    "                                 dcc.Graph(id='test-two-variables', figure={})],\n",
    "                                style={'width': '50%',\n",
    "                                       'display': 'flex'})])\n",
    "\n",
    "\n",
    "@app.callback(\n",
    "    [Output(component_id='test-one-variable', component_property='figure'),\n",
    "     Output(component_id='test-two-variables', component_property='figure')],\n",
    "    [Input(component_id='variable-options', component_property='value')]\n",
    ")\n",
    "def logistic_regresion_graphs(variable_options):\n",
    "    # crear input\n",
    "    if not variable_options or len(variable_options) < 2:\n",
    "        return [{}, {}]\n",
    "    elif len(variable_options) > 2:\n",
    "        variable_options = variable_options[0:2]\n",
    "    if variable_options[0] not in ['Fare', 'Age']:\n",
    "        return [{}, {}]\n",
    "\n",
    "\n",
    "    data_titanic_na_filter = data_titanic[variable_options + ['Survived']]\n",
    "    data_titanic_na_filter = data_titanic_na_filter.dropna()\n",
    "\n",
    "    respuesta = data_titanic_na_filter.Survived\n",
    "    variables = data_titanic_na_filter[variable_options]\n",
    "    datos_titanic = dividir_datos(variables, respuesta)\n",
    "\n",
    "    datos_logisticos = crear_linea_regresion_logistica(datos_titanic['x_entrenamiento'],\n",
    "                                                       datos_titanic['y_entrenamiento'],\n",
    "                                                       datos_titanic['x_prueba'],\n",
    "                                                       variable_options[0])\n",
    "\n",
    "    figura_una_variable, figura_dos_variables = crear_figuras_regresion_logistica(datos_logisticos, variable_options, .5)\n",
    "\n",
    "    return figura_una_variable, figura_dos_variables"
   ]
  },
  {
   "cell_type": "code",
   "execution_count": 10,
   "metadata": {},
   "outputs": [
    {
     "data": {
      "text/html": [
       "<div>\n",
       "  <iframe src=\"/app/endpoints/5a95740dc9574c8fa5c1d3141a7aa18c/\" width=800 height=600 frameborder=\"0\"></iframe>\n",
       "  <hr/><a href=\"/app/endpoints/5a95740dc9574c8fa5c1d3141a7aa18c/\" target=\"_new\">Open in new window</a> for /app/endpoints/5a95740dc9574c8fa5c1d3141a7aa18c/\n",
       "</div>"
      ],
      "text/plain": [
       "<jupyter_plotly_dash.dash_wrapper.JupyterDash at 0x7f2a283db910>"
      ]
     },
     "execution_count": 10,
     "metadata": {},
     "output_type": "execute_result"
    }
   ],
   "source": [
    "app"
   ]
  }
 ],
 "metadata": {
  "kernelspec": {
   "display_name": "Python 3",
   "language": "python",
   "name": "python3"
  },
  "language_info": {
   "codemirror_mode": {
    "name": "ipython",
    "version": 3
   },
   "file_extension": ".py",
   "mimetype": "text/x-python",
   "name": "python",
   "nbconvert_exporter": "python",
   "pygments_lexer": "ipython3",
   "version": "3.7.9"
  }
 },
 "nbformat": 4,
 "nbformat_minor": 4
}
