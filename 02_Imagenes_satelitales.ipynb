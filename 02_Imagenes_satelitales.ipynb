{
 "cells": [
  {
   "cell_type": "code",
   "execution_count": 1,
   "metadata": {},
   "outputs": [],
   "source": [
    "import json\n",
    "import numpy as np \n",
    "import pandas as pd\n",
    "from collections import Counter\n",
    "import matplotlib.pyplot as plt\n",
    "\n",
    "import dash\n",
    "import dash_core_components as dcc\n",
    "import dash_html_components as html\n",
    "from dash.dependencies import Input, Output\n",
    "from jupyter_plotly_dash import JupyterDash\n",
    "\n",
    "import plotly.graph_objects as go\n",
    "from plotly.subplots import make_subplots\n",
    "\n",
    "from sklearn.metrics import accuracy_score\n",
    "from sklearn.linear_model import LogisticRegression\n",
    "from sklearn.model_selection import train_test_split\n",
    "\n",
    "from src.CreateFigures import graficar_error_tipo_de_suelo"
   ]
  },
  {
   "cell_type": "markdown",
   "metadata": {},
   "source": [
    "## Ejemplo particular algoritmo de clasificación"
   ]
  },
  {
   "cell_type": "markdown",
   "metadata": {},
   "source": [
    "### Cargar Datos (librería Pandas)"
   ]
  },
  {
   "cell_type": "code",
   "execution_count": 2,
   "metadata": {},
   "outputs": [],
   "source": [
    "import pandas as pd\n",
    "\n",
    "datos_urbanos_entrenamiento = pd.read_csv('./data/data_400k_atmosfere_train.csv', sep=';')\n",
    "datos_urbanos_prueba_previos = pd.read_csv('./data/data_100k_atmosfere_test.csv', sep=';')"
   ]
  },
  {
   "cell_type": "markdown",
   "metadata": {},
   "source": [
    "### Explorar Datos Entrenamiento (librerías Pandas y Numpy)"
   ]
  },
  {
   "cell_type": "code",
   "execution_count": 3,
   "metadata": {},
   "outputs": [
    {
     "data": {
      "text/html": [
       "<div>\n",
       "<style scoped>\n",
       "    .dataframe tbody tr th:only-of-type {\n",
       "        vertical-align: middle;\n",
       "    }\n",
       "\n",
       "    .dataframe tbody tr th {\n",
       "        vertical-align: top;\n",
       "    }\n",
       "\n",
       "    .dataframe thead th {\n",
       "        text-align: right;\n",
       "    }\n",
       "</style>\n",
       "<table border=\"1\" class=\"dataframe\">\n",
       "  <thead>\n",
       "    <tr style=\"text-align: right;\">\n",
       "      <th></th>\n",
       "      <th>label</th>\n",
       "      <th>0</th>\n",
       "      <th>1</th>\n",
       "      <th>2</th>\n",
       "      <th>3</th>\n",
       "      <th>4</th>\n",
       "      <th>5</th>\n",
       "      <th>6</th>\n",
       "      <th>7</th>\n",
       "      <th>8</th>\n",
       "      <th>9</th>\n",
       "      <th>10</th>\n",
       "    </tr>\n",
       "  </thead>\n",
       "  <tbody>\n",
       "    <tr>\n",
       "      <th>0</th>\n",
       "      <td>1</td>\n",
       "      <td>11307.126</td>\n",
       "      <td>10535.025</td>\n",
       "      <td>9957.730</td>\n",
       "      <td>9328.1710</td>\n",
       "      <td>16205.812</td>\n",
       "      <td>14058.183</td>\n",
       "      <td>11157.457</td>\n",
       "      <td>9490.906</td>\n",
       "      <td>5984.3790</td>\n",
       "      <td>0.227315</td>\n",
       "      <td>0.247315</td>\n",
       "    </tr>\n",
       "    <tr>\n",
       "      <th>1</th>\n",
       "      <td>1</td>\n",
       "      <td>15770.389</td>\n",
       "      <td>14806.718</td>\n",
       "      <td>13934.342</td>\n",
       "      <td>14220.0625</td>\n",
       "      <td>18000.357</td>\n",
       "      <td>19486.440</td>\n",
       "      <td>17995.285</td>\n",
       "      <td>13934.342</td>\n",
       "      <td>8519.1880</td>\n",
       "      <td>0.217005</td>\n",
       "      <td>0.237708</td>\n",
       "    </tr>\n",
       "    <tr>\n",
       "      <th>2</th>\n",
       "      <td>1</td>\n",
       "      <td>14006.371</td>\n",
       "      <td>12951.784</td>\n",
       "      <td>12386.999</td>\n",
       "      <td>11284.5500</td>\n",
       "      <td>22575.480</td>\n",
       "      <td>17016.967</td>\n",
       "      <td>12934.234</td>\n",
       "      <td>11932.298</td>\n",
       "      <td>8082.5005</td>\n",
       "      <td>0.225678</td>\n",
       "      <td>0.246700</td>\n",
       "    </tr>\n",
       "    <tr>\n",
       "      <th>3</th>\n",
       "      <td>1</td>\n",
       "      <td>15163.064</td>\n",
       "      <td>14301.527</td>\n",
       "      <td>13556.456</td>\n",
       "      <td>14199.4190</td>\n",
       "      <td>15494.917</td>\n",
       "      <td>16959.531</td>\n",
       "      <td>15995.885</td>\n",
       "      <td>13709.619</td>\n",
       "      <td>8056.9736</td>\n",
       "      <td>0.226130</td>\n",
       "      <td>0.247268</td>\n",
       "    </tr>\n",
       "    <tr>\n",
       "      <th>4</th>\n",
       "      <td>1</td>\n",
       "      <td>14644.876</td>\n",
       "      <td>14378.099</td>\n",
       "      <td>14185.647</td>\n",
       "      <td>14502.8590</td>\n",
       "      <td>16248.193</td>\n",
       "      <td>16921.110</td>\n",
       "      <td>17157.360</td>\n",
       "      <td>12511.985</td>\n",
       "      <td>7060.9697</td>\n",
       "      <td>0.228295</td>\n",
       "      <td>0.250043</td>\n",
       "    </tr>\n",
       "  </tbody>\n",
       "</table>\n",
       "</div>"
      ],
      "text/plain": [
       "   label          0          1          2           3          4          5  \\\n",
       "0      1  11307.126  10535.025   9957.730   9328.1710  16205.812  14058.183   \n",
       "1      1  15770.389  14806.718  13934.342  14220.0625  18000.357  19486.440   \n",
       "2      1  14006.371  12951.784  12386.999  11284.5500  22575.480  17016.967   \n",
       "3      1  15163.064  14301.527  13556.456  14199.4190  15494.917  16959.531   \n",
       "4      1  14644.876  14378.099  14185.647  14502.8590  16248.193  16921.110   \n",
       "\n",
       "           6          7          8         9        10  \n",
       "0  11157.457   9490.906  5984.3790  0.227315  0.247315  \n",
       "1  17995.285  13934.342  8519.1880  0.217005  0.237708  \n",
       "2  12934.234  11932.298  8082.5005  0.225678  0.246700  \n",
       "3  15995.885  13709.619  8056.9736  0.226130  0.247268  \n",
       "4  17157.360  12511.985  7060.9697  0.228295  0.250043  "
      ]
     },
     "execution_count": 3,
     "metadata": {},
     "output_type": "execute_result"
    }
   ],
   "source": [
    "datos_urbanos_entrenamiento.head()"
   ]
  },
  {
   "cell_type": "code",
   "execution_count": 4,
   "metadata": {},
   "outputs": [
    {
     "data": {
      "text/plain": [
       "(400002, 12)"
      ]
     },
     "execution_count": 4,
     "metadata": {},
     "output_type": "execute_result"
    }
   ],
   "source": [
    "datos_urbanos_entrenamiento.shape"
   ]
  },
  {
   "cell_type": "code",
   "execution_count": 5,
   "metadata": {},
   "outputs": [
    {
     "data": {
      "text/html": [
       "<div>\n",
       "<style scoped>\n",
       "    .dataframe tbody tr th:only-of-type {\n",
       "        vertical-align: middle;\n",
       "    }\n",
       "\n",
       "    .dataframe tbody tr th {\n",
       "        vertical-align: top;\n",
       "    }\n",
       "\n",
       "    .dataframe thead th {\n",
       "        text-align: right;\n",
       "    }\n",
       "</style>\n",
       "<table border=\"1\" class=\"dataframe\">\n",
       "  <thead>\n",
       "    <tr style=\"text-align: right;\">\n",
       "      <th></th>\n",
       "      <th>label</th>\n",
       "      <th>0</th>\n",
       "      <th>1</th>\n",
       "      <th>2</th>\n",
       "      <th>3</th>\n",
       "      <th>4</th>\n",
       "      <th>5</th>\n",
       "      <th>6</th>\n",
       "      <th>7</th>\n",
       "      <th>8</th>\n",
       "      <th>9</th>\n",
       "      <th>10</th>\n",
       "    </tr>\n",
       "  </thead>\n",
       "  <tbody>\n",
       "    <tr>\n",
       "      <th>count</th>\n",
       "      <td>400002.000000</td>\n",
       "      <td>400002.000000</td>\n",
       "      <td>400002.000000</td>\n",
       "      <td>400002.000000</td>\n",
       "      <td>400002.000000</td>\n",
       "      <td>400002.000000</td>\n",
       "      <td>400002.000000</td>\n",
       "      <td>400002.000000</td>\n",
       "      <td>400002.000000</td>\n",
       "      <td>400002.000000</td>\n",
       "      <td>400002.000000</td>\n",
       "      <td>400002.000000</td>\n",
       "    </tr>\n",
       "    <tr>\n",
       "      <th>mean</th>\n",
       "      <td>2.000000</td>\n",
       "      <td>13698.865831</td>\n",
       "      <td>12815.509844</td>\n",
       "      <td>12151.481693</td>\n",
       "      <td>11818.876364</td>\n",
       "      <td>15517.964485</td>\n",
       "      <td>14253.359270</td>\n",
       "      <td>12100.678571</td>\n",
       "      <td>11950.909733</td>\n",
       "      <td>7092.962866</td>\n",
       "      <td>0.223546</td>\n",
       "      <td>0.244036</td>\n",
       "    </tr>\n",
       "    <tr>\n",
       "      <th>std</th>\n",
       "      <td>0.816498</td>\n",
       "      <td>2053.973010</td>\n",
       "      <td>2194.913630</td>\n",
       "      <td>2403.765595</td>\n",
       "      <td>3047.507402</td>\n",
       "      <td>5636.986384</td>\n",
       "      <td>5524.447136</td>\n",
       "      <td>4394.215033</td>\n",
       "      <td>2680.459830</td>\n",
       "      <td>1040.974952</td>\n",
       "      <td>0.011196</td>\n",
       "      <td>0.012382</td>\n",
       "    </tr>\n",
       "    <tr>\n",
       "      <th>min</th>\n",
       "      <td>1.000000</td>\n",
       "      <td>89.201935</td>\n",
       "      <td>81.556050</td>\n",
       "      <td>0.000000</td>\n",
       "      <td>0.000000</td>\n",
       "      <td>0.000000</td>\n",
       "      <td>0.000000</td>\n",
       "      <td>0.000000</td>\n",
       "      <td>0.000000</td>\n",
       "      <td>0.000000</td>\n",
       "      <td>0.111664</td>\n",
       "      <td>0.117946</td>\n",
       "    </tr>\n",
       "    <tr>\n",
       "      <th>25%</th>\n",
       "      <td>1.000000</td>\n",
       "      <td>12468.423000</td>\n",
       "      <td>11473.412000</td>\n",
       "      <td>10541.205000</td>\n",
       "      <td>9442.662000</td>\n",
       "      <td>9744.910000</td>\n",
       "      <td>8573.289000</td>\n",
       "      <td>8029.913000</td>\n",
       "      <td>10063.991500</td>\n",
       "      <td>6199.114700</td>\n",
       "      <td>0.220746</td>\n",
       "      <td>0.241686</td>\n",
       "    </tr>\n",
       "    <tr>\n",
       "      <th>50%</th>\n",
       "      <td>2.000000</td>\n",
       "      <td>13412.983000</td>\n",
       "      <td>12558.899000</td>\n",
       "      <td>11965.800000</td>\n",
       "      <td>11615.103000</td>\n",
       "      <td>16446.701000</td>\n",
       "      <td>15005.486000</td>\n",
       "      <td>11912.929000</td>\n",
       "      <td>11689.002000</td>\n",
       "      <td>6887.099600</td>\n",
       "      <td>0.224825</td>\n",
       "      <td>0.245439</td>\n",
       "    </tr>\n",
       "    <tr>\n",
       "      <th>75%</th>\n",
       "      <td>3.000000</td>\n",
       "      <td>14721.007500</td>\n",
       "      <td>13808.834000</td>\n",
       "      <td>13327.353750</td>\n",
       "      <td>13637.011000</td>\n",
       "      <td>19414.998750</td>\n",
       "      <td>18288.103500</td>\n",
       "      <td>15513.526000</td>\n",
       "      <td>13315.564000</td>\n",
       "      <td>8033.042000</td>\n",
       "      <td>0.227534</td>\n",
       "      <td>0.248066</td>\n",
       "    </tr>\n",
       "    <tr>\n",
       "      <th>max</th>\n",
       "      <td>3.000000</td>\n",
       "      <td>54470.910000</td>\n",
       "      <td>56271.957000</td>\n",
       "      <td>56369.560000</td>\n",
       "      <td>58702.484000</td>\n",
       "      <td>69105.480000</td>\n",
       "      <td>91339.990000</td>\n",
       "      <td>104557.180000</td>\n",
       "      <td>58938.210000</td>\n",
       "      <td>20610.035000</td>\n",
       "      <td>0.243676</td>\n",
       "      <td>0.263404</td>\n",
       "    </tr>\n",
       "  </tbody>\n",
       "</table>\n",
       "</div>"
      ],
      "text/plain": [
       "               label              0              1              2  \\\n",
       "count  400002.000000  400002.000000  400002.000000  400002.000000   \n",
       "mean        2.000000   13698.865831   12815.509844   12151.481693   \n",
       "std         0.816498    2053.973010    2194.913630    2403.765595   \n",
       "min         1.000000      89.201935      81.556050       0.000000   \n",
       "25%         1.000000   12468.423000   11473.412000   10541.205000   \n",
       "50%         2.000000   13412.983000   12558.899000   11965.800000   \n",
       "75%         3.000000   14721.007500   13808.834000   13327.353750   \n",
       "max         3.000000   54470.910000   56271.957000   56369.560000   \n",
       "\n",
       "                   3              4              5              6  \\\n",
       "count  400002.000000  400002.000000  400002.000000  400002.000000   \n",
       "mean    11818.876364   15517.964485   14253.359270   12100.678571   \n",
       "std      3047.507402    5636.986384    5524.447136    4394.215033   \n",
       "min         0.000000       0.000000       0.000000       0.000000   \n",
       "25%      9442.662000    9744.910000    8573.289000    8029.913000   \n",
       "50%     11615.103000   16446.701000   15005.486000   11912.929000   \n",
       "75%     13637.011000   19414.998750   18288.103500   15513.526000   \n",
       "max     58702.484000   69105.480000   91339.990000  104557.180000   \n",
       "\n",
       "                   7              8              9             10  \n",
       "count  400002.000000  400002.000000  400002.000000  400002.000000  \n",
       "mean    11950.909733    7092.962866       0.223546       0.244036  \n",
       "std      2680.459830    1040.974952       0.011196       0.012382  \n",
       "min         0.000000       0.000000       0.111664       0.117946  \n",
       "25%     10063.991500    6199.114700       0.220746       0.241686  \n",
       "50%     11689.002000    6887.099600       0.224825       0.245439  \n",
       "75%     13315.564000    8033.042000       0.227534       0.248066  \n",
       "max     58938.210000   20610.035000       0.243676       0.263404  "
      ]
     },
     "execution_count": 5,
     "metadata": {},
     "output_type": "execute_result"
    }
   ],
   "source": [
    "datos_urbanos_entrenamiento.describe()"
   ]
  },
  {
   "cell_type": "code",
   "execution_count": 6,
   "metadata": {},
   "outputs": [
    {
     "name": "stdout",
     "output_type": "stream",
     "text": [
      "<class 'pandas.core.frame.DataFrame'>\n",
      "RangeIndex: 400002 entries, 0 to 400001\n",
      "Data columns (total 12 columns):\n",
      " #   Column  Non-Null Count   Dtype  \n",
      "---  ------  --------------   -----  \n",
      " 0   label   400002 non-null  int64  \n",
      " 1   0       400002 non-null  float64\n",
      " 2   1       400002 non-null  float64\n",
      " 3   2       400002 non-null  float64\n",
      " 4   3       400002 non-null  float64\n",
      " 5   4       400002 non-null  float64\n",
      " 6   5       400002 non-null  float64\n",
      " 7   6       400002 non-null  float64\n",
      " 8   7       400002 non-null  float64\n",
      " 9   8       400002 non-null  float64\n",
      " 10  9       400002 non-null  float64\n",
      " 11  10      400002 non-null  float64\n",
      "dtypes: float64(11), int64(1)\n",
      "memory usage: 36.6 MB\n"
     ]
    }
   ],
   "source": [
    "datos_urbanos_entrenamiento.info()"
   ]
  },
  {
   "cell_type": "code",
   "execution_count": 7,
   "metadata": {},
   "outputs": [
    {
     "data": {
      "text/plain": [
       "array([1, 2, 3])"
      ]
     },
     "execution_count": 7,
     "metadata": {},
     "output_type": "execute_result"
    }
   ],
   "source": [
    "import numpy as np \n",
    "\n",
    "np.unique(datos_urbanos_entrenamiento.label)"
   ]
  },
  {
   "cell_type": "code",
   "execution_count": 8,
   "metadata": {},
   "outputs": [
    {
     "data": {
      "text/plain": [
       "\u001b[0;31mSignature:\u001b[0m\n",
       "\u001b[0mnp\u001b[0m\u001b[0;34m.\u001b[0m\u001b[0munique\u001b[0m\u001b[0;34m(\u001b[0m\u001b[0;34m\u001b[0m\n",
       "\u001b[0;34m\u001b[0m    \u001b[0mar\u001b[0m\u001b[0;34m,\u001b[0m\u001b[0;34m\u001b[0m\n",
       "\u001b[0;34m\u001b[0m    \u001b[0mreturn_index\u001b[0m\u001b[0;34m=\u001b[0m\u001b[0;32mFalse\u001b[0m\u001b[0;34m,\u001b[0m\u001b[0;34m\u001b[0m\n",
       "\u001b[0;34m\u001b[0m    \u001b[0mreturn_inverse\u001b[0m\u001b[0;34m=\u001b[0m\u001b[0;32mFalse\u001b[0m\u001b[0;34m,\u001b[0m\u001b[0;34m\u001b[0m\n",
       "\u001b[0;34m\u001b[0m    \u001b[0mreturn_counts\u001b[0m\u001b[0;34m=\u001b[0m\u001b[0;32mFalse\u001b[0m\u001b[0;34m,\u001b[0m\u001b[0;34m\u001b[0m\n",
       "\u001b[0;34m\u001b[0m    \u001b[0maxis\u001b[0m\u001b[0;34m=\u001b[0m\u001b[0;32mNone\u001b[0m\u001b[0;34m,\u001b[0m\u001b[0;34m\u001b[0m\n",
       "\u001b[0;34m\u001b[0m\u001b[0;34m)\u001b[0m\u001b[0;34m\u001b[0m\u001b[0;34m\u001b[0m\u001b[0m\n",
       "\u001b[0;31mDocstring:\u001b[0m\n",
       "Find the unique elements of an array.\n",
       "\n",
       "Returns the sorted unique elements of an array. There are three optional\n",
       "outputs in addition to the unique elements:\n",
       "\n",
       "* the indices of the input array that give the unique values\n",
       "* the indices of the unique array that reconstruct the input array\n",
       "* the number of times each unique value comes up in the input array\n",
       "\n",
       "Parameters\n",
       "----------\n",
       "ar : array_like\n",
       "    Input array. Unless `axis` is specified, this will be flattened if it\n",
       "    is not already 1-D.\n",
       "return_index : bool, optional\n",
       "    If True, also return the indices of `ar` (along the specified axis,\n",
       "    if provided, or in the flattened array) that result in the unique array.\n",
       "return_inverse : bool, optional\n",
       "    If True, also return the indices of the unique array (for the specified\n",
       "    axis, if provided) that can be used to reconstruct `ar`.\n",
       "return_counts : bool, optional\n",
       "    If True, also return the number of times each unique item appears\n",
       "    in `ar`.\n",
       "\n",
       "    .. versionadded:: 1.9.0\n",
       "\n",
       "axis : int or None, optional\n",
       "    The axis to operate on. If None, `ar` will be flattened. If an integer,\n",
       "    the subarrays indexed by the given axis will be flattened and treated\n",
       "    as the elements of a 1-D array with the dimension of the given axis,\n",
       "    see the notes for more details.  Object arrays or structured arrays\n",
       "    that contain objects are not supported if the `axis` kwarg is used. The\n",
       "    default is None.\n",
       "\n",
       "    .. versionadded:: 1.13.0\n",
       "\n",
       "Returns\n",
       "-------\n",
       "unique : ndarray\n",
       "    The sorted unique values.\n",
       "unique_indices : ndarray, optional\n",
       "    The indices of the first occurrences of the unique values in the\n",
       "    original array. Only provided if `return_index` is True.\n",
       "unique_inverse : ndarray, optional\n",
       "    The indices to reconstruct the original array from the\n",
       "    unique array. Only provided if `return_inverse` is True.\n",
       "unique_counts : ndarray, optional\n",
       "    The number of times each of the unique values comes up in the\n",
       "    original array. Only provided if `return_counts` is True.\n",
       "\n",
       "    .. versionadded:: 1.9.0\n",
       "\n",
       "See Also\n",
       "--------\n",
       "numpy.lib.arraysetops : Module with a number of other functions for\n",
       "                        performing set operations on arrays.\n",
       "\n",
       "Notes\n",
       "-----\n",
       "When an axis is specified the subarrays indexed by the axis are sorted.\n",
       "This is done by making the specified axis the first dimension of the array\n",
       "(move the axis to the first dimension to keep the order of the other axes)\n",
       "and then flattening the subarrays in C order. The flattened subarrays are\n",
       "then viewed as a structured type with each element given a label, with the\n",
       "effect that we end up with a 1-D array of structured types that can be\n",
       "treated in the same way as any other 1-D array. The result is that the\n",
       "flattened subarrays are sorted in lexicographic order starting with the\n",
       "first element.\n",
       "\n",
       "Examples\n",
       "--------\n",
       ">>> np.unique([1, 1, 2, 2, 3, 3])\n",
       "array([1, 2, 3])\n",
       ">>> a = np.array([[1, 1], [2, 3]])\n",
       ">>> np.unique(a)\n",
       "array([1, 2, 3])\n",
       "\n",
       "Return the unique rows of a 2D array\n",
       "\n",
       ">>> a = np.array([[1, 0, 0], [1, 0, 0], [2, 3, 4]])\n",
       ">>> np.unique(a, axis=0)\n",
       "array([[1, 0, 0], [2, 3, 4]])\n",
       "\n",
       "Return the indices of the original array that give the unique values:\n",
       "\n",
       ">>> a = np.array(['a', 'b', 'b', 'c', 'a'])\n",
       ">>> u, indices = np.unique(a, return_index=True)\n",
       ">>> u\n",
       "array(['a', 'b', 'c'], dtype='<U1')\n",
       ">>> indices\n",
       "array([0, 1, 3])\n",
       ">>> a[indices]\n",
       "array(['a', 'b', 'c'], dtype='<U1')\n",
       "\n",
       "Reconstruct the input array from the unique values:\n",
       "\n",
       ">>> a = np.array([1, 2, 6, 4, 2, 3, 2])\n",
       ">>> u, indices = np.unique(a, return_inverse=True)\n",
       ">>> u\n",
       "array([1, 2, 3, 4, 6])\n",
       ">>> indices\n",
       "array([0, 1, 4, 3, 1, 2, 1])\n",
       ">>> u[indices]\n",
       "array([1, 2, 6, 4, 2, 3, 2])\n",
       "\u001b[0;31mFile:\u001b[0m      ~/anaconda3/envs/Binder-examples/lib/python3.7/site-packages/numpy/lib/arraysetops.py\n",
       "\u001b[0;31mType:\u001b[0m      function\n"
      ]
     },
     "metadata": {},
     "output_type": "display_data"
    }
   ],
   "source": [
    "?np.unique"
   ]
  },
  {
   "cell_type": "markdown",
   "metadata": {},
   "source": [
    "### Dividir Prueba en Validación y Prueba (librería Sklearn)"
   ]
  },
  {
   "cell_type": "code",
   "execution_count": 9,
   "metadata": {},
   "outputs": [],
   "source": [
    "from sklearn.model_selection import train_test_split\n",
    "\n",
    "datos_urbanos_prueba, datos_urbanos_validacion = train_test_split(datos_urbanos_prueba_previos, test_size=.5, random_state=0)"
   ]
  },
  {
   "cell_type": "markdown",
   "metadata": {},
   "source": [
    "### Entrenar regresión logística (librería Sklearn)"
   ]
  },
  {
   "cell_type": "code",
   "execution_count": 10,
   "metadata": {},
   "outputs": [
    {
     "name": "stdout",
     "output_type": "stream",
     "text": [
      "CPU times: user 9min 30s, sys: 8min 31s, total: 18min 1s\n",
      "Wall time: 1min 48s\n"
     ]
    },
    {
     "data": {
      "text/plain": [
       "LogisticRegression(max_iter=1000, multi_class='multinomial', random_state=0)"
      ]
     },
     "execution_count": 10,
     "metadata": {},
     "output_type": "execute_result"
    }
   ],
   "source": [
    "%%time \n",
    "# aproximadamente, 2 minutos\n",
    "from sklearn.linear_model import LogisticRegression\n",
    "\n",
    "modelo = LogisticRegression(penalty='l2', max_iter=1000, multi_class='multinomial', random_state = 0)\n",
    "modelo.fit(datos_urbanos_entrenamiento[['0', '1', '2', '3', '4', '5', '6', '7', '8', '9', '10']], datos_urbanos_entrenamiento.label)"
   ]
  },
  {
   "cell_type": "markdown",
   "metadata": {},
   "source": [
    "### Inspeccionar desempeño del modelo (Librerías Sklearn, Pandas)"
   ]
  },
  {
   "cell_type": "code",
   "execution_count": 11,
   "metadata": {},
   "outputs": [
    {
     "name": "stdout",
     "output_type": "stream",
     "text": [
      "clase predecida primeros 10 elementos: [2 1 2 2 2 3 2 1 2 2]\n",
      "\n",
      "probabilidades predecidas primer elemento: [0.43849308 0.44924343 0.11226348]\n"
     ]
    }
   ],
   "source": [
    "preddiccion_prueba = modelo.predict(datos_urbanos_prueba[['0', '1', '2', '3', '4', '5', '6', '7', '8', '9', '10']])\n",
    "print(f'clase predecida primeros 10 elementos: {preddiccion_prueba[0:10]}\\n')\n",
    "\n",
    "prob_preddiccion_prueba = modelo.predict_proba(datos_urbanos_prueba[['0', '1', '2', '3', '4', '5', '6', '7', '8', '9', '10']])\n",
    "print(f'probabilidades predecidas primer elemento: {prob_preddiccion_prueba[0]}')"
   ]
  },
  {
   "cell_type": "code",
   "execution_count": 12,
   "metadata": {},
   "outputs": [
    {
     "data": {
      "text/plain": [
       "0.81406"
      ]
     },
     "execution_count": 12,
     "metadata": {},
     "output_type": "execute_result"
    }
   ],
   "source": [
    "from sklearn.metrics import accuracy_score\n",
    "\n",
    "accuracy_score(datos_urbanos_prueba.label ,preddiccion_prueba)"
   ]
  },
  {
   "cell_type": "code",
   "execution_count": 12,
   "metadata": {},
   "outputs": [
    {
     "data": {
      "text/html": [
       "<div>\n",
       "<style scoped>\n",
       "    .dataframe tbody tr th:only-of-type {\n",
       "        vertical-align: middle;\n",
       "    }\n",
       "\n",
       "    .dataframe tbody tr th {\n",
       "        vertical-align: top;\n",
       "    }\n",
       "\n",
       "    .dataframe thead th {\n",
       "        text-align: right;\n",
       "    }\n",
       "</style>\n",
       "<table border=\"1\" class=\"dataframe\">\n",
       "  <thead>\n",
       "    <tr style=\"text-align: right;\">\n",
       "      <th>Predicción</th>\n",
       "      <th>1</th>\n",
       "      <th>2</th>\n",
       "      <th>3</th>\n",
       "    </tr>\n",
       "    <tr>\n",
       "      <th>Verdaderos</th>\n",
       "      <th></th>\n",
       "      <th></th>\n",
       "      <th></th>\n",
       "    </tr>\n",
       "  </thead>\n",
       "  <tbody>\n",
       "    <tr>\n",
       "      <th>1</th>\n",
       "      <td>4523</td>\n",
       "      <td>882</td>\n",
       "      <td>58</td>\n",
       "    </tr>\n",
       "    <tr>\n",
       "      <th>2</th>\n",
       "      <td>6860</td>\n",
       "      <td>34321</td>\n",
       "      <td>1395</td>\n",
       "    </tr>\n",
       "    <tr>\n",
       "      <th>3</th>\n",
       "      <td>24</td>\n",
       "      <td>78</td>\n",
       "      <td>1859</td>\n",
       "    </tr>\n",
       "  </tbody>\n",
       "</table>\n",
       "</div>"
      ],
      "text/plain": [
       "Predicción     1      2     3\n",
       "Verdaderos                   \n",
       "1           4523    882    58\n",
       "2           6860  34321  1395\n",
       "3             24     78  1859"
      ]
     },
     "execution_count": 12,
     "metadata": {},
     "output_type": "execute_result"
    }
   ],
   "source": [
    "matriz_de_confusion = pd.crosstab(datos_urbanos_prueba.label ,preddiccion_prueba, rownames=['Verdaderos'], colnames=['Predicción'])\n",
    "matriz_de_confusion"
   ]
  },
  {
   "cell_type": "markdown",
   "metadata": {},
   "source": [
    "## Regresión Logística varias penalizaciones"
   ]
  },
  {
   "cell_type": "code",
   "execution_count": 13,
   "metadata": {},
   "outputs": [
    {
     "data": {
      "text/plain": [
       "1.0"
      ]
     },
     "execution_count": 13,
     "metadata": {},
     "output_type": "execute_result"
    }
   ],
   "source": [
    "parametros_del_modelo = modelo.get_params()\n",
    "penalizacion_regularizacion = parametros_del_modelo['C']\n",
    "penalizacion_regularizacion"
   ]
  },
  {
   "cell_type": "code",
   "execution_count": 19,
   "metadata": {},
   "outputs": [
    {
     "name": "stdout",
     "output_type": "stream",
     "text": [
      "procesando C=0.001\n",
      "procesando C=0.01\n",
      "procesando C=0.1\n",
      "procesando C=1\n",
      "procesando C=10\n",
      "procesando C=100\n"
     ]
    }
   ],
   "source": [
    "rango_de_penalizaciones = [0.001,0.01,0.1,1,10,100]\n",
    "variables_modelo = ['0', '1', '2', '3', '4', '5', '6', '7', '8', '9', '10']\n",
    "entrenar_modelo = True\n",
    "\n",
    "if entrenar_modelo:\n",
    "    error_de_entrenamiento= {}\n",
    "    error_de_prueba = {}\n",
    "    error_de_validacion = {}\n",
    "    \n",
    "    # iterar sobre distintos valores de la penalizacion\n",
    "    for penalizacion in rango_de_penalizaciones:\n",
    "        print(f'procesando C={penalizacion}')\n",
    "        # crear modelo\n",
    "        nuevo_modelo = LogisticRegression(penalty='l2', max_iter=1000, multi_class='multinomial', C = penalizacion, random_state = 0)\n",
    "        nuevo_modelo.fit(datos_urbanos_entrenamiento[variables_modelo], datos_urbanos_entrenamiento.label)\n",
    "\n",
    "        # calcular error entrenamiento, prueba, validacion\n",
    "        prediccion_entrenamiento = nuevo_modelo.predict(datos_urbanos_entrenamiento[variables_modelo])\n",
    "        error_de_entrenamiento[penalizacion] = accuracy_score(datos_urbanos_entrenamiento.label , prediccion_entrenamiento)\n",
    "\n",
    "        prediccion_prueba = nuevo_modelo.predict(datos_urbanos_prueba[variables_modelo])\n",
    "        error_de_prueba[penalizacion] = accuracy_score(datos_urbanos_prueba.label , prediccion_prueba)\n",
    "\n",
    "        prediccion_validacion = nuevo_modelo.predict(datos_urbanos_validacion[variables_modelo])\n",
    "        error_de_validacion[penalizacion] = accuracy_score(datos_urbanos_validacion.label , prediccion_validacion)\n",
    "    \n",
    "    #guardar resultados\n",
    "    with open('./data/error_de_entrenamiento.json', 'w') as file:\n",
    "        json.dump(error_de_entrenamiento, file)\n",
    "        \n",
    "    with open('./data/error_de_prueba.json', 'w') as file:\n",
    "        json.dump(error_de_prueba, file)\n",
    "\n",
    "    with open('./data/error_de_validacion.json', 'w') as file:\n",
    "        json.dump(error_de_validacion, file)\n",
    "else:\n",
    "    with open('./data/error_de_entrenamiento.json', 'r') as file:\n",
    "        error_de_entrenamiento= json.load(file)\n",
    "    with open('./data/error_de_prueba.json', 'r') as file:\n",
    "        error_de_prueba = json.load(file)\n",
    "    with open('./data/error_de_validacion.json', 'r') as file:\n",
    "        error_de_validacion = json.load(file)"
   ]
  },
  {
   "cell_type": "code",
   "execution_count": 20,
   "metadata": {},
   "outputs": [],
   "source": [
    "app = JupyterDash(__name__)\n",
    "\n",
    "errores = {'entrenamiento':error_de_entrenamiento, \n",
    "           'prueba': error_de_prueba, \n",
    "           'validacion': error_de_validacion}\n",
    "\n",
    "# app\n",
    "app.layout = html.Div([html.Div([html.H1(\"Error de modelos de regresión logistca\"),\n",
    "                                 dcc.Dropdown(id='model-options',\n",
    "                                              options=[{'label': 'Entrenamiento', 'value': 'entrenamiento'},\n",
    "                                                       {'label': 'Prueba', 'value': 'prueba'},\n",
    "                                                       {'label': 'Validación', 'value': 'validacion'}],\n",
    "                                              value=['entrenamiento'],\n",
    "                                              multi=True)]),\n",
    "                       html.Div([dcc.Graph(id='error',figure={})],\n",
    "                                style= {'width': '50%', \n",
    "                                        'display': 'flex'})])\n",
    "\n",
    "@app.callback(\n",
    "    Output(component_id='error', component_property='figure'),\n",
    "    [Input(component_id='model-options', component_property='value')]\n",
    ")\n",
    "def error_graphs(model_options):\n",
    "    if not model_options:\n",
    "        return {}\n",
    "    figura_error = go.Figure()\n",
    "    for tipo_de_error in model_options:\n",
    "        figura_error = graficar_error_tipo_de_suelo(figura_error, errores, tipo_de_error)\n",
    "\n",
    "    return figura_error"
   ]
  },
  {
   "cell_type": "code",
   "execution_count": 21,
   "metadata": {},
   "outputs": [
    {
     "data": {
      "text/html": [
       "<div>\n",
       "  <iframe src=\"/app/endpoints/74743405cbe5458aabb67659ad8535cb/\" width=800 height=600 frameborder=\"0\"></iframe>\n",
       "  <hr/><a href=\"/app/endpoints/74743405cbe5458aabb67659ad8535cb/\" target=\"_new\">Open in new window</a> for /app/endpoints/74743405cbe5458aabb67659ad8535cb/\n",
       "</div>"
      ],
      "text/plain": [
       "<jupyter_plotly_dash.dash_wrapper.JupyterDash at 0x7fec4ae893d0>"
      ]
     },
     "execution_count": 21,
     "metadata": {},
     "output_type": "execute_result"
    }
   ],
   "source": [
    "app"
   ]
  },
  {
   "cell_type": "markdown",
   "metadata": {},
   "source": [
    "## Visualizaciones porcentajes de prediccion"
   ]
  },
  {
   "cell_type": "code",
   "execution_count": 23,
   "metadata": {},
   "outputs": [],
   "source": [
    "variables_modelo = ['0', '1', '2', '3', '4', '5', '6', '7', '8', '9', '10']\n",
    "\n",
    "prediccion_entrenamiento = modelo.predict(datos_urbanos_entrenamiento[variables_modelo])\n",
    "prediccion_prueba = modelo.predict(datos_urbanos_prueba[variables_modelo])\n",
    "prediccion_validacion = modelo.predict(datos_urbanos_validacion[variables_modelo])"
   ]
  },
  {
   "cell_type": "code",
   "execution_count": 65,
   "metadata": {},
   "outputs": [],
   "source": [
    "from collections import Counter\n",
    "\n",
    "entremaiento_elementos_por_clase = dict(Counter(prediccion_entrenamiento))\n",
    "entremaiento_elementos_por_clase = {clase:[n_clase/len(prediccion_entrenamiento)] for clase, n_clase in entremaiento_elementos_por_clase.items()}\n",
    "entremaiento_elementos_por_clase['Tipo'] = 'Entrenamiento'\n",
    "\n",
    "prueba_elementos_por_clase = dict(Counter(prediccion_prueba))\n",
    "prueba_elementos_por_clase = {clase:[n_clase/len(prediccion_prueba)] for clase, n_clase in prueba_elementos_por_clase.items()}\n",
    "prueba_elementos_por_clase['Tipo'] = 'Prueba'\n",
    "\n",
    "validacion_elementos_por_clase = dict(Counter(prediccion_validacion))\n",
    "validacion_elementos_por_clase = {clase:[n_clase/len(prediccion_validacion)] for clase, n_clase in validacion_elementos_por_clase.items()}\n",
    "validacion_elementos_por_clase['Tipo'] = 'Validación'\n",
    "\n",
    "# pasar a Dataframe\n",
    "df_clases = pd.concat([pd.DataFrame(entremaiento_elementos_por_clase), \n",
    "                       pd.DataFrame(prueba_elementos_por_clase), \n",
    "                       pd.DataFrame(validacion_elementos_por_clase)])"
   ]
  },
  {
   "cell_type": "code",
   "execution_count": 66,
   "metadata": {},
   "outputs": [
    {
     "data": {
      "text/html": [
       "<div>\n",
       "<style scoped>\n",
       "    .dataframe tbody tr th:only-of-type {\n",
       "        vertical-align: middle;\n",
       "    }\n",
       "\n",
       "    .dataframe tbody tr th {\n",
       "        vertical-align: top;\n",
       "    }\n",
       "\n",
       "    .dataframe thead th {\n",
       "        text-align: right;\n",
       "    }\n",
       "</style>\n",
       "<table border=\"1\" class=\"dataframe\">\n",
       "  <thead>\n",
       "    <tr style=\"text-align: right;\">\n",
       "      <th></th>\n",
       "      <th>2</th>\n",
       "      <th>1</th>\n",
       "      <th>3</th>\n",
       "      <th>Tipo</th>\n",
       "    </tr>\n",
       "  </thead>\n",
       "  <tbody>\n",
       "    <tr>\n",
       "      <th>0</th>\n",
       "      <td>0.337366</td>\n",
       "      <td>0.331501</td>\n",
       "      <td>0.331133</td>\n",
       "      <td>Entrenamiento</td>\n",
       "    </tr>\n",
       "    <tr>\n",
       "      <th>0</th>\n",
       "      <td>0.705620</td>\n",
       "      <td>0.228140</td>\n",
       "      <td>0.066240</td>\n",
       "      <td>Prueba</td>\n",
       "    </tr>\n",
       "    <tr>\n",
       "      <th>0</th>\n",
       "      <td>0.705500</td>\n",
       "      <td>0.226920</td>\n",
       "      <td>0.067580</td>\n",
       "      <td>Validación</td>\n",
       "    </tr>\n",
       "  </tbody>\n",
       "</table>\n",
       "</div>"
      ],
      "text/plain": [
       "          2         1         3           Tipo\n",
       "0  0.337366  0.331501  0.331133  Entrenamiento\n",
       "0  0.705620  0.228140  0.066240         Prueba\n",
       "0  0.705500  0.226920  0.067580     Validación"
      ]
     },
     "execution_count": 66,
     "metadata": {},
     "output_type": "execute_result"
    }
   ],
   "source": [
    "df_clases"
   ]
  },
  {
   "cell_type": "code",
   "execution_count": 67,
   "metadata": {},
   "outputs": [
    {
     "data": {
      "text/plain": [
       "<AxesSubplot:title={'center':'Comparación de porcentajes de clases'}, ylabel='Tipo'>"
      ]
     },
     "execution_count": 67,
     "metadata": {},
     "output_type": "execute_result"
    },
    {
     "data": {
      "image/png": "[encoded data removed]",
      "text/plain": [
       "<Figure size 432x288 with 1 Axes>"
      ]
     },
     "metadata": {
      "needs_background": "light"
     },
     "output_type": "display_data"
    }
   ],
   "source": [
    "df_clases.plot( \n",
    "    x = 'Tipo', \n",
    "    kind = 'barh', \n",
    "    stacked = True, \n",
    "    title = 'Comparación de porcentajes de clases', \n",
    "    mark_right = True) "
   ]
  },
  {
   "cell_type": "markdown",
   "metadata": {},
   "source": [
    "## Calculo de índice"
   ]
  }
 ],
 "metadata": {
  "kernelspec": {
   "display_name": "Python 3",
   "language": "python",
   "name": "python3"
  },
  "language_info": {
   "codemirror_mode": {
    "name": "ipython",
    "version": 3
   },
   "file_extension": ".py",
   "mimetype": "text/x-python",
   "name": "python",
   "nbconvert_exporter": "python",
   "pygments_lexer": "ipython3",
   "version": "3.7.9"
  }
 },
 "nbformat": 4,
 "nbformat_minor": 4
}
